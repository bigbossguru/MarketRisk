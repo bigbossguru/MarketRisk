{
 "cells": [
  {
   "attachments": {},
   "cell_type": "markdown",
   "metadata": {},
   "source": [
    "# Analysis market transactions (positions)"
   ]
  },
  {
   "attachments": {},
   "cell_type": "markdown",
   "metadata": {},
   "source": [
    "### Installing all needed libraries"
   ]
  },
  {
   "cell_type": "code",
   "execution_count": 8,
   "metadata": {},
   "outputs": [],
   "source": [
    "import pathlib\n",
    "import pandas as pd"
   ]
  },
  {
   "attachments": {},
   "cell_type": "markdown",
   "metadata": {},
   "source": [
    "### Reading all sources files for analysis"
   ]
  },
  {
   "cell_type": "code",
   "execution_count": 9,
   "metadata": {},
   "outputs": [],
   "source": [
    "SOURCE_PATH = pathlib.Path(\"./sources/\")\n",
    "pnl_df = pd.read_excel(SOURCE_PATH / \"PnL.xlsx\")\n",
    "positions_detail_df = pd.read_excel(SOURCE_PATH / \"position_details.xlsx\")\n",
    "instrument_detail_df = pd.read_json(SOURCE_PATH / \"instrument_details.json\")"
   ]
  }
 ],
 "metadata": {
  "kernelspec": {
   "display_name": ".venv",
   "language": "python",
   "name": "python3"
  },
  "language_info": {
   "codemirror_mode": {
    "name": "ipython",
    "version": 3
   },
   "file_extension": ".py",
   "mimetype": "text/x-python",
   "name": "python",
   "nbconvert_exporter": "python",
   "pygments_lexer": "ipython3",
   "version": "3.10.8"
  },
  "orig_nbformat": 4,
  "vscode": {
   "interpreter": {
    "hash": "e8aa799be137133598f8110d984ab1980ccf2749a2cc0ff22d8687203ce7fc6a"
   }
  }
 },
 "nbformat": 4,
 "nbformat_minor": 2
}
